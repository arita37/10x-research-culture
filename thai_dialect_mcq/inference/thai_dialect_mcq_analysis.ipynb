{
 "cells": [
  {
   "cell_type": "code",
   "execution_count": 1,
   "id": "4ed17e2a-0539-42e2-a0fd-49231aecb424",
   "metadata": {},
   "outputs": [],
   "source": [
    "import json\n",
    "import matplotlib as plt"
   ]
  },
  {
   "cell_type": "code",
   "execution_count": 4,
   "id": "976da0dc-6a50-4aa3-acc8-d932dda9a526",
   "metadata": {},
   "outputs": [],
   "source": [
    "with open(\"../combined_560_with_distractors.json\") as f:\n",
    "    data = json.load(f)"
   ]
  },
  {
   "cell_type": "code",
   "execution_count": 19,
   "id": "f37467bc-3e04-4e17-83cc-a84bee71555e",
   "metadata": {},
   "outputs": [],
   "source": [
    "def read_output(path):\n",
    "    # path = \"./outputs/combined_560_with_distractors/typhoon-v1.5-instruct.json\"\n",
    "    with open(path) as f:\n",
    "        preds = json.load(f)\n",
    "    assert len(preds) == len(data)\n",
    "    score = {\n",
    "        'southern': {'correct': 0, 'total': 0},\n",
    "        'northern': {'correct': 0, 'total': 0},\n",
    "        'nangrong': {'correct': 0, 'total': 0},\n",
    "        'overall': {'correct': 0, 'total': 0},\n",
    "    }\n",
    "    for i, pred_item in enumerate(preds.items()):\n",
    "        assert int(pred_item[0]) == i\n",
    "        pred = int(pred_item[1]) - 1\n",
    "        gt = data[i]['answer_id']\n",
    "        region = data[i]['type']\n",
    "        if pred == gt:\n",
    "            score[region]['correct'] += 1\n",
    "            score['overall']['correct'] += 1\n",
    "        score[region]['total'] += 1\n",
    "        score['overall']['total'] += 1\n",
    "        \n",
    "    print(\"Accuracy Northern: {:.2f}\".format(score['northern']['correct']/score['northern']['total']*100))\n",
    "    print(\"Accuracy Southern: {:.2f}\".format(score['southern']['correct']/score['southern']['total']*100))\n",
    "    print(\"Accuracy Isarn: {:.2f}\".format(score['nangrong']['correct']/score['nangrong']['total']*100))\n",
    "    print(\"Accuracy Overall: {:.2f}\".format(score['overall']['correct']/score['overall']['total']*100))"
   ]
  },
  {
   "cell_type": "code",
   "execution_count": 20,
   "id": "d359bfad-2023-4b47-a596-d595844802c8",
   "metadata": {},
   "outputs": [
    {
     "name": "stdout",
     "output_type": "stream",
     "text": [
      "Accuracy Northern: 41.41\n",
      "Accuracy Southern: 42.34\n",
      "Accuracy Isarn: 46.88\n",
      "Accuracy Overall: 44.72\n"
     ]
    }
   ],
   "source": [
    "read_output(\"./outputs/combined_560_with_distractors/typhoon-v1.5-instruct.json\")"
   ]
  },
  {
   "cell_type": "code",
   "execution_count": 21,
   "id": "a32b77e3-e1b9-4add-9f94-e9d1cf528406",
   "metadata": {},
   "outputs": [
    {
     "name": "stdout",
     "output_type": "stream",
     "text": [
      "Accuracy Northern: 44.53\n",
      "Accuracy Southern: 50.45\n",
      "Accuracy Isarn: 49.06\n",
      "Accuracy Overall: 48.30\n"
     ]
    }
   ],
   "source": [
    "read_output(\"./outputs/combined_560_with_distractors/gpt-3.5-turbo-0125.json\")"
   ]
  },
  {
   "cell_type": "code",
   "execution_count": 24,
   "id": "a79acd33-9f5f-4c2c-a9c8-4578d4d2bbed",
   "metadata": {},
   "outputs": [
    {
     "name": "stdout",
     "output_type": "stream",
     "text": [
      "Accuracy Northern: 75.00\n",
      "Accuracy Southern: 83.78\n",
      "Accuracy Isarn: 72.81\n",
      "Accuracy Overall: 75.49\n"
     ]
    }
   ],
   "source": [
    "read_output(\"./outputs/combined_560_with_distractors/gpt-4o-2024-05-13.json\")"
   ]
  },
  {
   "cell_type": "code",
   "execution_count": null,
   "id": "e960eeb5-4cbe-42da-b8c6-cd558444b3d8",
   "metadata": {},
   "outputs": [],
   "source": []
  }
 ],
 "metadata": {
  "kernelspec": {
   "display_name": "Python 3 (ipykernel)",
   "language": "python",
   "name": "python3"
  },
  "language_info": {
   "codemirror_mode": {
    "name": "ipython",
    "version": 3
   },
   "file_extension": ".py",
   "mimetype": "text/x-python",
   "name": "python",
   "nbconvert_exporter": "python",
   "pygments_lexer": "ipython3",
   "version": "3.9.19"
  }
 },
 "nbformat": 4,
 "nbformat_minor": 5
}
